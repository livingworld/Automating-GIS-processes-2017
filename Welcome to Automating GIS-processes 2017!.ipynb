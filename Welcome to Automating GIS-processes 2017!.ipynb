{
 "cells": [
  {
   "cell_type": "markdown",
   "metadata": {},
   "source": [
    "# 欢迎来到自动化GIS处理2017！\n",
    "\n",
    "自动化GIS处理课程教你如何使用Python程序语言处理不同的GIS相关的任务。每个课程都是一个有特殊标题的教程，旨在学习如何使用Python工具解决常用的GIS相关的问题和任务。在课程当中，我们只使用公开可用的数据，这些数据可以从任何地方使用和下载。在这个课程当中，我们假设你知道Python的基础知识。如果你对Python并不熟悉，建议从我们早期专注于Python基础知识的课程[geo-python.github.io](https://geo-python.github.io/2017/)开始。\n",
    "\n",
    "## 课程格式\n",
    "\n",
    "课程的大部分内容将会花费在计算机前学习使用Python语言编程和完成练习。在教学阶段1期间，自动化GIS处理和定量地质学导论课程聚集在一起，重点学习Python编程。此前，所有的这些课程都缺乏充足的时间让学生们恰当的理解Python程序的基本概念。\n",
    "\n",
    "计算机练习将会关注使用Python语言提升基本的编程技巧和应用这些技巧在不同的GIS相关的问题中。典型的练习包括简单的介绍，然后是以计算机为基础的任务。在练习的末尾，你可能会被要求提交相关问题的答案，一些关联的图形，和/或你写或使用过的Python代码。我们鼓励您与其他学生一起讨论和合作进行实验室练习但是您提交的实验室总结报告必须单独完成，并且必须清楚的反应您自己的工作。\n",
    "\n",
    "### 早期的版本\n",
    "\n",
    "旧课程资料可在以下网址获得：\n",
    "\n",
    "- [2016](https://automating-gis-processes.github.io/2016/)\n",
    "\n",
    "注意，课程的资料每年都会更新。因此，旧的课程材料可能不被使用，它们可能过时了。\n",
    "\n",
    "### 开放获取\n",
    "\n",
    "课程对每个人开放。这个课程的旨在分享这些知识，并帮助人们开始使用Python编程，从而更高效、更可重复地进行GIS的旅程。\n",
    "\n",
    "### 用云计算进行分布说明！(?)\n",
    "\n",
    "这些资料是以一种循序渐进进的方式编写的，只要你使用我们为你提供的云计算资料(不幸的是，只适用Uni. Helsinki人)就可以一步步地完成他们。从[这里](https://github.com/Python-for-geo-people/Lesson-1-Course-Environment/blob/master/Background/course-environment-components.md)了解更多的关于云计算环境的信息。如果你在自己的计算机上工作，则需要调整数据的文件路径。\n",
    "\n",
    "### 对于教师\n",
    "\n",
    "如果您想要将这些资料用于您自己的教学或进一步发展，我们非常支持。请从[这里](https://automating-gis-processes.github.io/2017/License-terms.html)阅读关于如何做到这一点的信息。\n",
    "\n",
    "## 每周的课程主题\n",
    "\n",
    "见第1期的早期[资料](https://geo-python.github.io/2017/)\n",
    "\n",
    "这些资料按周划分，每周一上午在这些页面发布，课程按照下列时间表进行:\n",
    "\n",
    "|Time|Theme|\n",
    "|-------|:------:|\n",
    "|Class 1 30.10.2017|GIS in Python; Spatial data model; Geometric Objects; Shapely|\n",
    "|Class 2 6.11.2017|Working with GeoDataFrames; Managing projections;Table join;|\n",
    "|Class 3 13.11.2017 |Geocoding and making spatial queries|\n",
    "|Class 4 20.11.2017|Geometric operations; Reclassifying data with Pysal|\n",
    "|Class 5 27.11.2017|Visualization, making static and interactive maps|\n",
    "|Class 6 4.12.2017|Using Python programming in Quantum GIS|\n",
    "|Class 7 11.12.2017|Network analysis and routing in Python (transport modelling)|\n",
    "\n",
    "## 内容\n"
   ]
  }
 ],
 "metadata": {
  "kernelspec": {
   "display_name": "Python 3",
   "language": "python",
   "name": "python3"
  },
  "language_info": {
   "codemirror_mode": {
    "name": "ipython",
    "version": 3
   },
   "file_extension": ".py",
   "mimetype": "text/x-python",
   "name": "python",
   "nbconvert_exporter": "python",
   "pygments_lexer": "ipython3",
   "version": "3.5.0"
  }
 },
 "nbformat": 4,
 "nbformat_minor": 2
}
