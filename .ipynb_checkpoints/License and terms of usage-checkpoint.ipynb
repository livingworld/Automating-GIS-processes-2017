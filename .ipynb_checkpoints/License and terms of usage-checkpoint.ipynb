{
 "cells": [
  {
   "cell_type": "markdown",
   "metadata": {},
   "source": [
    "# 许可证和使用条款\n",
    "## 教学材料\n",
    "\n",
    "我们希望在这里提供的材料对别人有帮助。因此，我们开放地分享所有的课程资料，我们的源代码和课程资料开放在这里来自Github。在这里，你也能够发现如何使用材料和按照你自己的目的修改他们的信息。然而，如果你修改课程资料，我们也希望你将你的资料公开例如在Github，在那里每个人都能够从你的工作中受益，就像我们提供这些资料给你一样。我们也欢迎合作者和如何改进网页中资料的观点。通过[email](https://automating-gis-processes.github.io/2017/course-info/course-info.html)练习我们或克隆这个docs在GitHub上。\n",
    "\n",
    "我们的资料和代码片段按照下面解释的方式授权:\n",
    "\n",
    "## 代码片段/软件\n",
    "\n",
    "所有的教学材料是遵循**Creative Commons Attribution-ShareAlike 4.0 International licence**的前提下制作的。请查看[整个许可文件](https://creativecommons.org/licenses/by-sa/4.0/legalcode)\n",
    "\n",
    "简化为许可证的可读版本:\n",
    "\n",
    "### 你可以免费的\n",
    "\n",
    "- **分享**-复制和？材料为任意的尺寸和格式\n",
    "- **调整**-基于材料的重新？、转换和构建。\n",
    "\n",
    "处于任何目的，甚至商业化。只要您遵循许可条款，许可人都不能撤销这些自由。\n",
    "\n",
    "### 根据以下条款\n",
    "- **归属**-你必须提供适当的信用，提供许可证的链接，并指出是否进行了更改。您可以以任何合理的方式进行，但不得以方式暗示许可人赞同您或您的使用。\n",
    "- **授权**-如果您重新混合、转换或构建材料，您必须将你的贡献以同许可的方式分配。\n",
    "\n",
    "**没有额外的限制**-您不得使用法律条款或技术措施，在法律上限制他人从事许可证的所允许的任何事情。\n",
    "\n",
    "### 注意\n",
    "\n",
    "您不必遵守公共领域中的材料元素的许可证，也不必遵守适用的异常或限制允许使用的元素。\n",
    "\n",
    "没哟宁。许可证可能不会提供您预期使用所需要的所有权限。例如，诸如宣传、隐私或道德权力等其他可能会限制您使用这些材料。\n",
    "\n",
    "**脚注**\n",
    "\n",
    "适当的信用:如果提供，您必须提供创建者和归属方的名称、版权声明、许可声明、免责声明以及材料的链接。版本4.0之前的CC许可证也要求您提供材料的标题(如果提供)，并可能有其他细微差异。\n",
    "\n",
    "指示更改：在4.0中，你必须指出是否你修改了材料并保留了以前修改的指示。在3.0及更早的许可证版本中，只有在创建衍生产品时才需要更改的指示。\n",
    "\n",
    "相同许可证:您也可以在[https://creativecommons.org/compatiblelicenses](https://creativecommons.org/compatiblelicenses)上使用列为兼容的许可证。\n",
    "\n",
    "技术措施：许可证禁止适用《知识产权组织版权条约》第11条确定的有效技术措施。\n",
    "\n",
    "例外或限制：在例外和限制下，如公平使用和公平交易，用户的权利不受CC许可证的影响。\n",
    "\n",
    "宣传、隐私或道德权利：在使用材料之前，你可能需要获得额外的许可。\n",
    "\n",
    "## 代码片/软件\n",
    "\n",
    "除非另有说明，自动化GIS处理提供的示例程序、代码片段和其他软件均可在GNU GPLv3许可证下获得(请参阅[此处](https://www.gnu.org/licenses/gpl.html)的许可证)"
   ]
  }
 ],
 "metadata": {
  "kernelspec": {
   "display_name": "Python 3",
   "language": "python",
   "name": "python3"
  },
  "language_info": {
   "codemirror_mode": {
    "name": "ipython",
    "version": 3
   },
   "file_extension": ".py",
   "mimetype": "text/x-python",
   "name": "python",
   "nbconvert_exporter": "python",
   "pygments_lexer": "ipython3",
   "version": "3.5.0"
  }
 },
 "nbformat": 4,
 "nbformat_minor": 2
}
