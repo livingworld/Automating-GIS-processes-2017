{
 "cells": [
  {
   "cell_type": "markdown",
   "metadata": {},
   "source": [
    "# 普通信息\n",
    "## 第二阶段的课程会议\n",
    "- Mondays 12:15-16:00, C122, Exactum (30.10 - 11.12)\n",
    "- Work sessions on Thursdays 12:15-16:00, A113-114, Physicum (02.11 - 14.12)\n",
    "\n",
    "## 教师\n",
    "\n",
    "### 讲师\n",
    "- Henrikki Tenkanen\n",
    "    + Office: A120, Physicum\n",
    "    + Email: firstname.lastname@helsinki.fi\n",
    "    + Phone: +358 50 4484436\n",
    "\n",
    "### 课程助理\n",
    "- Vuokko Heikinheimo\n",
    "    + Office: A120, Physicum\n",
    "    + Email: firstname.lastname@helsinki.fi\n",
    "    + Phone: +358 2941 50760\n",
    "- Samuli Massinen\n",
    "    + Email: firstname.lastname@helsinki.fi\n",
    "- Antti Kallanranta\n",
    "    + Email: firstname.lastname@helsinki.fi\n",
    "\n",
    "### 课程网站\n",
    "\n",
    "- 第一阶段课程网站(介绍Python编程):\n",
    "    + 主课程网站:[https://geo-python.github.io](https://geo-python.github.io/2017/)\n",
    "    + Pebbles（云计算）网站[https://pb.geo.helsinki.fi](https://pb.geo.helsinki.fi/)\n",
    "    + 投票(仅在售票期间有效)：[https://geo-python.github.io/poll](https://geo-python.github.io/poll/)\n",
    "    \n",
    "### 教材\n",
    "\n",
    "这门课没有必修课本。这个课程使用了广泛的课程资料来源，主要教材如下。\n",
    "\n",
    "- 推荐教材(按相关性排序):\n",
    "    + Zelle, J. (2010) Python Programming: An Introduction to Computer Science, Second edition. Franklin, Beedle & Associates.\n",
    "    + Lawhead, J. (2015) Learning Geospatial Analysis with Python: An effective guide to geographic information systems and remote sensing analysis using Python 3, Second edition. Packt Publishing.\n",
    "    + McKinney, W. (2012) Python for Data Analysis: Data wrangling with Pandas, NumPy and iPython, First edition. O´Reilly Media.\n",
    "\n",
    "- 选修教材:\n",
    "    + Westra, E. (2016) Python Geospatial Development: Develop sophisticated mapping applications from scratch using Python 3 tools for geospatial development, Third edition. Packt Publishing.\n",
    "    + Zandbergen, P. (2013) Python Scripting for ArcGIS, Alternate edition. ESRI press. (Available from the library)\n",
    "    + Diener, M. (2015) Python Geospatial Analysis Cookbook: Over 60 recipes to work with topology, overlays, indoor routing, and web application analysis with Python. Packt Publishing."
   ]
  }
 ],
 "metadata": {
  "kernelspec": {
   "display_name": "Python 3",
   "language": "python",
   "name": "python3"
  },
  "language_info": {
   "codemirror_mode": {
    "name": "ipython",
    "version": 3
   },
   "file_extension": ".py",
   "mimetype": "text/x-python",
   "name": "python",
   "nbconvert_exporter": "python",
   "pygments_lexer": "ipython3",
   "version": "3.5.0"
  }
 },
 "nbformat": 4,
 "nbformat_minor": 2
}
